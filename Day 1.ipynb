{
 "cells": [
  {
   "cell_type": "markdown",
   "id": "a1786b7f",
   "metadata": {},
   "source": [
    "1. Տրված ֆայլում պարունակվում են թվեր։ Իրականացնել ծրագիր, որը հաշվում և վերադարձնում է ֆայլում պարունակվող թվերի գումարը։"
   ]
  },
  {
   "cell_type": "code",
   "execution_count": 23,
   "id": "9c58f2fb",
   "metadata": {},
   "outputs": [
    {
     "name": "stdout",
     "output_type": "stream",
     "text": [
      "1460\n"
     ]
    }
   ],
   "source": [
    "with open('day_one_files/ex_1', 'r') as f:\n",
    "    line_sum = []\n",
    "    while True:\n",
    "        line = f.readline()\n",
    "        if not line:\n",
    "            break\n",
    "        \n",
    "        line_sum.append(sum(map(int, line.strip().split(\" \"))))\n",
    "    print(sum(line_sum))"
   ]
  },
  {
   "cell_type": "markdown",
   "id": "c2d4f4b2",
   "metadata": {},
   "source": [
    " 2.Տրված ֆայլում պարունակվում է տեքստ։ Իրականացնել ծրագիր, որը ֆայլի մեջ պարունակվող տեքստի բոլոր բառերի առաջին տառերը դարձնում է մեծատառ և ձևափոխված ամբողջ տեքստը պահպանում մեկ այլ ֆայլում։"
   ]
  },
  {
   "cell_type": "code",
   "execution_count": 31,
   "id": "11f11ddc",
   "metadata": {},
   "outputs": [],
   "source": [
    "new_file = open(\"day_one_files/ex_2_new\", 'w')"
   ]
  },
  {
   "cell_type": "code",
   "execution_count": 32,
   "id": "fff019ea",
   "metadata": {},
   "outputs": [],
   "source": [
    "with open('day_one_files/ex_2', 'r') as f:\n",
    "    while True:\n",
    "        line = f.readline()\n",
    "        if not line:\n",
    "            break\n",
    "        new_file.write(line.title())\n",
    "    new_file.close()\n"
   ]
  },
  {
   "cell_type": "markdown",
   "id": "8b17bd49",
   "metadata": {},
   "source": [
    "3.Օգտագործելով աղյուսակ (dictionary) հաշվել զանգվածում բոլոր թվերի կրկնությունների քանակը։"
   ]
  },
  {
   "cell_type": "code",
   "execution_count": 36,
   "id": "31fd1630",
   "metadata": {},
   "outputs": [
    {
     "name": "stdout",
     "output_type": "stream",
     "text": [
      "{'4': 2, '5': 1, '6': 1, '8': 1, '45': 4, '545': 1, '12': 2, '65': 1, '445': 1, '87': 2}\n"
     ]
    }
   ],
   "source": [
    "with open('day_one_files/ex_1') as f:\n",
    "    digit_count = dict()\n",
    "    while True:\n",
    "        line = f.readline().strip()\n",
    "        if not line:\n",
    "            break\n",
    "        for x in line.split(\" \"):\n",
    "            if digit_count.get(x):\n",
    "                digit_count[x] += 1\n",
    "            else:\n",
    "                digit_count[x] = 1\n",
    "    print(digit_count)"
   ]
  },
  {
   "cell_type": "markdown",
   "id": "7ea94e26",
   "metadata": {},
   "source": [
    "4.Տեքստային ֆայլի համար իրականացնել ծրագիր, որը կհաշվի ֆայլում հանդիպող սիմվոլների քանակը"
   ]
  },
  {
   "cell_type": "code",
   "execution_count": 44,
   "id": "1c3a1553",
   "metadata": {},
   "outputs": [
    {
     "name": "stdout",
     "output_type": "stream",
     "text": [
      "{'L': 5, 'o': 25, 'r': 24, 'e': 59, 'm': 18, ' ': 84, 'I': 6, 'p': 18, 's': 39, 'u': 17, 'i': 32, 'l': 17, 'y': 13, 'd': 16, 't': 43, 'x': 2, 'f': 6, 'h': 14, 'n': 38, 'g': 11, 'a': 28, '.': 4, 'b': 5, \"'\": 1, 'v': 5, 'c': 10, '1': 2, '5': 1, '0': 3, ',': 4, 'w': 6, 'k': 7, '9': 1, '6': 1, 'A': 1, 'P': 1, 'M': 1}\n"
     ]
    }
   ],
   "source": [
    "with open('day_one_files/ex_2') as f:\n",
    "    symbol_count = dict()\n",
    "    while True:\n",
    "        line = f.readline().strip()\n",
    "        if not line:\n",
    "            break\n",
    "        for x in line:\n",
    "            if x.isascii():\n",
    "                if symbol_count.get(x):\n",
    "                    symbol_count[x] += 1\n",
    "                else:\n",
    "                    symbol_count[x] = 1\n",
    "    print(symbol_count)"
   ]
  },
  {
   "cell_type": "markdown",
   "id": "d3cf2cf6",
   "metadata": {},
   "source": [
    "5.Իրականացնել ֆունկցիա, որը կհեռացնի ստացված տողի (string) ամեն երրորդ սիմվոլը։"
   ]
  },
  {
   "cell_type": "code",
   "execution_count": 52,
   "id": "5a6e69fe",
   "metadata": {},
   "outputs": [
    {
     "name": "stdout",
     "output_type": "stream",
     "text": [
      "armhartunkmk\n",
      "arhatukm\n"
     ]
    }
   ],
   "source": [
    "string = input()\n",
    "new_string = ''\n",
    "ln = 0\n",
    "while ln < len(string):\n",
    "    if (ln+1) % 3 != 0:\n",
    "        new_string += string[ln]\n",
    "    ln += 1\n",
    "print(new_string)"
   ]
  },
  {
   "cell_type": "markdown",
   "id": "d12d89f5",
   "metadata": {},
   "source": [
    "6.Իրականացնել ծրագիր, որը կհաշվի թե յուրաքանչյուր բառ քանի անգամ է հանդիպում տեքստային ֆայլում։"
   ]
  },
  {
   "cell_type": "code",
   "execution_count": 53,
   "id": "10a90536",
   "metadata": {},
   "outputs": [
    {
     "name": "stdout",
     "output_type": "stream",
     "text": [
      "{'Lorem': 4, 'Ipsum': 3, 'is': 1, 'simply': 1, 'dummy': 2, 'text': 2, 'of': 4, 'the': 6, 'printing': 1, 'and': 3, 'typesetting': 1, 'industry.': 1, 'has': 2, 'been': 1, \"industry's\": 1, 'standard': 1, 'ever': 1, 'since': 1, '1500s,': 1, 'when': 1, 'an': 1, 'unknown': 1, 'printer': 1, 'took': 1, 'a': 2, 'galley': 1, 'type': 2, 'scrambled': 1, 'it': 1, 'to': 1, 'make': 1, 'specimen': 1, 'book.': 1, 'It': 2, 'survived': 1, 'not': 1, 'only': 1, 'five': 1, 'centuries,': 1, 'but': 1, 'also': 1, 'leap': 1, 'into': 1, 'electronic': 1, 'typesetting,': 1, 'remaining': 1, 'essentially': 1, 'unchanged.': 1, 'was': 1, 'popularised': 1, 'in': 1, '1960s': 1, 'with': 2, 'release': 1, 'Letraset': 1, 'sheets': 1, 'containing': 1, 'passages,': 1, 'more': 1, 'recently': 1, 'desktop': 1, 'publishing': 1, 'software': 1, 'like': 1, 'Aldus': 1, 'PageMaker': 1, 'including': 1, 'versions': 1, 'Ipsum.': 1}\n"
     ]
    }
   ],
   "source": [
    "with open('day_one_files/ex_2') as f:\n",
    "    digit_count = dict()\n",
    "    while True:\n",
    "        line = f.readline().strip()\n",
    "        if not line:\n",
    "            break\n",
    "        for x in line.split(\" \"):\n",
    "            if digit_count.get(x):\n",
    "                digit_count[x] += 1\n",
    "            else:\n",
    "                digit_count[x] = 1\n",
    "    print(digit_count)"
   ]
  },
  {
   "cell_type": "markdown",
   "id": "755e1ff7",
   "metadata": {},
   "source": [
    "7.Գրել ծրագիր, որը կհաշվի տրված զանգվածի արժեքների քառակուսիները և կպահի դրանք նոր զանգվածում՝ սորտավորված ձևով։"
   ]
  },
  {
   "cell_type": "code",
   "execution_count": 59,
   "id": "9d3c3471",
   "metadata": {},
   "outputs": [
    {
     "name": "stdout",
     "output_type": "stream",
     "text": [
      "[0, 1, 9, 16, 25, 36, 36, 64, 144]\n"
     ]
    }
   ],
   "source": [
    "lst = [4, 3, 5, 1, 6, 8, 12, 0, 6]\n",
    "lst_new = list(map(lambda x: x**2, lst))\n",
    "lst_new.sort()\n",
    "print(lst_new)"
   ]
  },
  {
   "cell_type": "markdown",
   "id": "d15e6127",
   "metadata": {},
   "source": [
    "8.Հաշվել տրված թվի թվանշանների գումարը։ Օրինակ, տրված է 4637, վերադարձնել 4+6+3+7։"
   ]
  },
  {
   "cell_type": "code",
   "execution_count": 61,
   "id": "74cce800",
   "metadata": {},
   "outputs": [
    {
     "name": "stdout",
     "output_type": "stream",
     "text": [
      "20\n"
     ]
    }
   ],
   "source": [
    "def sum_of_number(number):\n",
    "    sum_n = 0\n",
    "    while number != 0:\n",
    "        sum_n += number % 10\n",
    "        number //= 10\n",
    "    return sum_n\n",
    "print(sum_of_number(4637))"
   ]
  },
  {
   "cell_type": "markdown",
   "id": "a54a33ab",
   "metadata": {},
   "source": [
    "9.Հաշվել տրված թվի թվանշանների արտադրյալի և գումարի տարբերությունը։ Օրինակ, տրված է 4637, վերադարձնել (4*6*3*7) - (4+6+3+7)։"
   ]
  },
  {
   "cell_type": "code",
   "execution_count": 62,
   "id": "18f63366",
   "metadata": {},
   "outputs": [
    {
     "name": "stdout",
     "output_type": "stream",
     "text": [
      "484\n"
     ]
    }
   ],
   "source": [
    "def mul_and_sum_subtract(number):\n",
    "    sum_n = 0\n",
    "    mul_n = 1\n",
    "    while number != 0:\n",
    "        last_n = number % 10\n",
    "        sum_n += last_n\n",
    "        mul_n *= last_n\n",
    "        number //= 10\n",
    "    return mul_n - sum_n\n",
    "print(mul_and_sum_subtract(4637))"
   ]
  },
  {
   "cell_type": "markdown",
   "id": "c4845ac6",
   "metadata": {},
   "source": [
    "10.Գրել ֆունկցիա, որը ստանում է միջակայքի սկիզբ և վերը (երկու թվեր) և հաշվում միջակայքում գտնվող կենտ թվերի քանակը։ Օրինակ, 3 և 7 միջակայքում կա երեք կենտ թիվ (3, 5, 7)։"
   ]
  },
  {
   "cell_type": "code",
   "execution_count": 71,
   "id": "75cab00b",
   "metadata": {},
   "outputs": [],
   "source": [
    "from math import ceil, floor\n",
    "\n",
    "def odd(start, end):\n",
    "    odd_count = 0\n",
    "    for x in range(ceil(start), floor(end)+1):\n",
    "        if x % 2 == 1:\n",
    "            odd_count += 1\n",
    "    print(odd_count)"
   ]
  },
  {
   "cell_type": "code",
   "execution_count": 72,
   "id": "a8ea4149",
   "metadata": {},
   "outputs": [
    {
     "name": "stdout",
     "output_type": "stream",
     "text": [
      "3\n"
     ]
    }
   ],
   "source": [
    "odd(2.7, 7.9)"
   ]
  },
  {
   "cell_type": "code",
   "execution_count": null,
   "id": "70c84a33",
   "metadata": {},
   "outputs": [],
   "source": []
  }
 ],
 "metadata": {
  "kernelspec": {
   "display_name": "Python 3 (ipykernel)",
   "language": "python",
   "name": "python3"
  },
  "language_info": {
   "codemirror_mode": {
    "name": "ipython",
    "version": 3
   },
   "file_extension": ".py",
   "mimetype": "text/x-python",
   "name": "python",
   "nbconvert_exporter": "python",
   "pygments_lexer": "ipython3",
   "version": "3.10.4"
  }
 },
 "nbformat": 4,
 "nbformat_minor": 5
}
